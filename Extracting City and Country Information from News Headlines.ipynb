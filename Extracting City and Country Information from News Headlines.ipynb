{
 "cells": [
  {
   "cell_type": "code",
   "execution_count": 1,
   "metadata": {},
   "outputs": [],
   "source": [
    "import requests,geonamescache,re\n",
    "import pandas as pd\n",
    "import numpy as np"
   ]
  },
  {
   "cell_type": "code",
   "execution_count": 2,
   "metadata": {},
   "outputs": [],
   "source": [
    "res=requests.get('https://livevideo-resources.s3-us-west-2.amazonaws.com/course-data/93/headlines.txt')"
   ]
  },
  {
   "cell_type": "code",
   "execution_count": 3,
   "metadata": {},
   "outputs": [],
   "source": [
    "text=res.text"
   ]
  },
  {
   "cell_type": "code",
   "execution_count": 4,
   "metadata": {},
   "outputs": [],
   "source": [
    "list_text=text.split('\\n')"
   ]
  },
  {
   "cell_type": "code",
   "execution_count": 5,
   "metadata": {},
   "outputs": [],
   "source": [
    "gc = geonamescache.GeonamesCache()\n",
    "countries = gc.get_countries()\n",
    "# print countries dictionary"
   ]
  },
  {
   "cell_type": "code",
   "execution_count": 6,
   "metadata": {},
   "outputs": [],
   "source": [
    "list_countries=[]\n",
    "for x in countries:\n",
    "  list_countries.append(countries[x][\"name\"])"
   ]
  },
  {
   "cell_type": "code",
   "execution_count": 7,
   "metadata": {},
   "outputs": [],
   "source": [
    "cities=gc.get_cities()"
   ]
  },
  {
   "cell_type": "code",
   "execution_count": 8,
   "metadata": {},
   "outputs": [],
   "source": [
    "list_cities=[]\n",
    "for x in cities:\n",
    "  list_cities.append(cities[x][\"name\"])\n"
   ]
  },
  {
   "cell_type": "code",
   "execution_count": null,
   "metadata": {},
   "outputs": [],
   "source": [
    "new_headline=\"\"\n",
    "new_countries=\"\"\n",
    "new_cities=\"\"\n",
    "extractData=[]\n",
    "for headline in list_text:\n",
    "        new_headline=headline\n",
    "        new_countries=\"\"\n",
    "        new_cities=\"\"\n",
    "        for countries in list_countries:\n",
    "            countryRegex=re.compile(r\"\\b\"+countries+r\"\\b\")\n",
    "            foundcountry=countryRegex.search(new_headline)\n",
    "            if foundcountry == None:\n",
    "                pass\n",
    "            else:\n",
    "                if new_countries==\"\":\n",
    "                    new_countries+=countries\n",
    "                else:\n",
    "                    new_countries+=\",\"+countries\n",
    "        if new_countries==\"\":\n",
    "            new_countries==np.nan\n",
    "        for cities in list_cities:\n",
    "            cityRegex=re.compile(r\"\\b\"+cities+r\"\\b\")\n",
    "            foundcity=cityRegex.search(new_headline)\n",
    "            if foundcity == None:\n",
    "                pass\n",
    "            else:\n",
    "                if new_cities==\"\":\n",
    "                    new_cities+=cities\n",
    "                else:\n",
    "                    new_cities+=\",\"+cities\n",
    "        if new_cities==\"\":\n",
    "            new_cities==np.nan\n",
    "        extractData.append([new_headline,new_countries,new_cities])\n",
    "\n"
   ]
  },
  {
   "cell_type": "code",
   "execution_count": null,
   "metadata": {},
   "outputs": [],
   "source": [
    "df = pd.DataFrame(extractData, columns = ['headline', 'countries','cities']) "
   ]
  },
  {
   "cell_type": "code",
   "execution_count": null,
   "metadata": {},
   "outputs": [],
   "source": [
    "clean_all_null = df.dropna(axis = 0, how ='all')"
   ]
  },
  {
   "cell_type": "code",
   "execution_count": null,
   "metadata": {},
   "outputs": [],
   "source": [
    "clean_all_null"
   ]
  }
 ],
 "metadata": {
  "kernelspec": {
   "display_name": "Python 3",
   "language": "python",
   "name": "python3"
  },
  "language_info": {
   "codemirror_mode": {
    "name": "ipython",
    "version": 3
   },
   "file_extension": ".py",
   "mimetype": "text/x-python",
   "name": "python",
   "nbconvert_exporter": "python",
   "pygments_lexer": "ipython3",
   "version": "3.8.0"
  }
 },
 "nbformat": 4,
 "nbformat_minor": 4
}
