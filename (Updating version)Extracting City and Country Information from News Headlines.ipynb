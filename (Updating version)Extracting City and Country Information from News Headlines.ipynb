{
 "cells": [
  {
   "cell_type": "code",
   "execution_count": 2,
   "metadata": {},
   "outputs": [],
   "source": [
    "import requests,geonamescache,re,json\n",
    "import pandas as pd\n",
    "import numpy as np\n",
    "import unidecode"
   ]
  },
  {
   "cell_type": "markdown",
   "metadata": {},
   "source": [
    "#Get data news headline text file from website and change to be string text#"
   ]
  },
  {
   "cell_type": "code",
   "execution_count": 3,
   "metadata": {},
   "outputs": [],
   "source": [
    "Respond=requests.get('https://livevideo-resources.s3-us-west-2.amazonaws.com/course-data/93/headlines.txt')\n",
    "Respond_text=Respond.text"
   ]
  },
  {
   "cell_type": "markdown",
   "metadata": {},
   "source": [
    "#Spilt headline into list#"
   ]
  },
  {
   "cell_type": "code",
   "execution_count": 4,
   "metadata": {},
   "outputs": [
    {
     "data": {
      "text/plain": [
       "['Zika Outbreak Hits Miami',\n",
       " 'Could Zika Reach New York City?',\n",
       " 'First Case of Zika in Miami Beach',\n",
       " 'Mystery Virus Spreads in Recife, Brazil']"
      ]
     },
     "execution_count": 4,
     "metadata": {},
     "output_type": "execute_result"
    }
   ],
   "source": [
    "Headline_text=Respond_text.split('\\n')\n",
    "Headline_text[:4]"
   ]
  },
  {
   "cell_type": "markdown",
   "metadata": {},
   "source": [
    "Get list of countries"
   ]
  },
  {
   "cell_type": "code",
   "execution_count": 5,
   "metadata": {},
   "outputs": [
    {
     "data": {
      "text/plain": [
       "['Andorra', 'United Arab Emirates', 'Afghanistan', 'Antigua and Barbuda']"
      ]
     },
     "execution_count": 5,
     "metadata": {},
     "output_type": "execute_result"
    }
   ],
   "source": [
    "gc = geonamescache.GeonamesCache()\n",
    "countries = [country[\"name\"] for country in gc.get_countries().values()]\n",
    "countries[:4]"
   ]
  },
  {
   "cell_type": "markdown",
   "metadata": {},
   "source": [
    "Get list of cities"
   ]
  },
  {
   "cell_type": "code",
   "execution_count": 6,
   "metadata": {},
   "outputs": [
    {
     "data": {
      "text/plain": [
       "['Andorra la Vella', 'Umm Al Quwain City', 'Ras Al Khaimah City', 'Zayed City']"
      ]
     },
     "execution_count": 6,
     "metadata": {},
     "output_type": "execute_result"
    }
   ],
   "source": [
    "cities = [city['name'] for city in gc.get_cities().values()]\n",
    "cities[:4]"
   ]
  },
  {
   "cell_type": "markdown",
   "metadata": {},
   "source": [
    "Removing accent mark from the lists of countries and cities by unidecode"
   ]
  },
  {
   "cell_type": "code",
   "execution_count": 7,
   "metadata": {},
   "outputs": [
    {
     "data": {
      "text/plain": [
       "'Āsmār'"
      ]
     },
     "execution_count": 7,
     "metadata": {},
     "output_type": "execute_result"
    }
   ],
   "source": [
    "country_accent_mapping = {\n",
    "    unidecode.unidecode(country): country for country in countries\n",
    "}\n",
    "\n",
    "city_accent_mapping = {\n",
    "    unidecode.unidecode(city): city for city in cities\n",
    "}\n",
    "\n",
    "city_accent_mapping[\"Asmar\"]"
   ]
  },
  {
   "cell_type": "markdown",
   "metadata": {},
   "source": [
    "Removing in headline as well"
   ]
  },
  {
   "cell_type": "code",
   "execution_count": 8,
   "metadata": {},
   "outputs": [
    {
     "data": {
      "text/plain": [
       "['Suva authorities confirmed the spread of Rotavirus',\n",
       " 'More Zika patients reported in Bella Vista',\n",
       " 'Zika Outbreak in Wichita Falls',\n",
       " '']"
      ]
     },
     "execution_count": 8,
     "metadata": {},
     "output_type": "execute_result"
    }
   ],
   "source": [
    "Headline_text= [unidecode.unidecode(headline) for headline in Headline_text]\n",
    "Headline_text[-4:]"
   ]
  },
  {
   "cell_type": "markdown",
   "metadata": {},
   "source": [
    "Create list of unaccented countries and cities"
   ]
  },
  {
   "cell_type": "code",
   "execution_count": 9,
   "metadata": {},
   "outputs": [
    {
     "name": "stdout",
     "output_type": "stream",
     "text": [
      "There are 23022 cities to look through.\n",
      "There are 252 countries to look through.\n"
     ]
    }
   ],
   "source": [
    "unaccented_cities = list(city_accent_mapping.keys())\n",
    "unaccented_countries = set(country_accent_mapping.keys())\n",
    "\n",
    "print(f\"There are {len(unaccented_cities)} cities to look through.\")\n",
    "print(f\"There are {len(unaccented_countries)} countries to look through.\")"
   ]
  },
  {
   "cell_type": "markdown",
   "metadata": {},
   "source": [
    "Sort Cities and Countries by Length"
   ]
  },
  {
   "cell_type": "code",
   "execution_count": 10,
   "metadata": {},
   "outputs": [
    {
     "data": {
      "text/plain": [
       "['Chak Two Hundred Forty-nine Thal Development Authority',\n",
       " 'Dolores Hidalgo Cuna de la Independencia Nacional']"
      ]
     },
     "execution_count": 10,
     "metadata": {},
     "output_type": "execute_result"
    }
   ],
   "source": [
    "unaccented_cities = sorted(unaccented_cities, key=lambda x: len(x), reverse=True)\n",
    "unaccented_cities[:2]"
   ]
  },
  {
   "cell_type": "code",
   "execution_count": 11,
   "metadata": {},
   "outputs": [
    {
     "data": {
      "text/plain": [
       "['South Georgia and the South Sandwich Islands',\n",
       " 'United States Minor Outlying Islands']"
      ]
     },
     "execution_count": 11,
     "metadata": {},
     "output_type": "execute_result"
    }
   ],
   "source": [
    "unaccented_countries = sorted(unaccented_countries, key=lambda x: len(x), reverse=True)\n",
    "unaccented_countries[:2]"
   ]
  },
  {
   "cell_type": "markdown",
   "metadata": {},
   "source": [
    "Constructing the Regular Expressions"
   ]
  },
  {
   "cell_type": "code",
   "execution_count": 12,
   "metadata": {},
   "outputs": [
    {
     "data": {
      "text/plain": [
       "'-Baume\\\\b|\\\\bTamuning-Tumon-Harmon Village\\\\b|\\\\bTultitlan de Mariano Escobedo\\\\b|\\\\bSan Bernardino Tlaxcalancingo\\\\b|\\\\bSan Francisco Tlalcilalcalpan\\\\b|\\\\bFraccionamiento Ciudad Olmeca\\\\b|\\\\bPresidencia Roque Saenz Pena\\\\b|\\\\bZurich (Kreis 11) / Oerlikon\\\\b|\\\\bSan Fernando de Monte Cristi\\\\b|\\\\bPuerto Francisco de '"
      ]
     },
     "execution_count": 12,
     "metadata": {},
     "output_type": "execute_result"
    }
   ],
   "source": [
    "city_regex = r'\\b|\\b'.join(unaccented_cities)\n",
    "city_regex[1500:1800]"
   ]
  },
  {
   "cell_type": "code",
   "execution_count": 13,
   "metadata": {},
   "outputs": [
    {
     "data": {
      "text/plain": [
       "'South Georgia and the South Sandwich Islands\\\\b|\\\\bUnited States Minor Outlying Islands\\\\b|\\\\bBonaire, S'"
      ]
     },
     "execution_count": 13,
     "metadata": {},
     "output_type": "execute_result"
    }
   ],
   "source": [
    "country_regex = r\"\\b|\\b\".join(unaccented_countries)\n",
    "country_regex[:100]"
   ]
  },
  {
   "cell_type": "markdown",
   "metadata": {},
   "source": [
    "Create city and country regular expression function"
   ]
  },
  {
   "cell_type": "code",
   "execution_count": 14,
   "metadata": {},
   "outputs": [],
   "source": [
    "     \"\"\"\n",
    "    Find the city(s) and/or country(s) in a text headline.\n",
    "    \n",
    "    :param headline: string for headline\n",
    "    \n",
    "    :return dict: a dictionary mapping the headline to city(s) and/or countries.\n",
    "     \"\"\"\n",
    "def find_city_and_country_in_headline(headline):\n",
    "    city_match = re.search(city_regex, headline)\n",
    "    country_match = re.search(country_regex, headline)\n",
    "    cities = None if not city_match else city_match.group(0)\n",
    "    countries = None if not country_match else country_match.group(0)\n",
    "    return dict(headline=headline, countries=countries, cities=cities)"
   ]
  },
  {
   "cell_type": "code",
   "execution_count": 15,
   "metadata": {},
   "outputs": [
    {
     "data": {
      "text/plain": [
       "{'headline': 'Mystery Virus Spreads in Recife, Brazil',\n",
       " 'countries': 'Brazil',\n",
       " 'cities': 'Recife'}"
      ]
     },
     "execution_count": 15,
     "metadata": {},
     "output_type": "execute_result"
    }
   ],
   "source": [
    "find_city_and_country_in_headline(Headline_text[3])"
   ]
  },
  {
   "cell_type": "code",
   "execution_count": 16,
   "metadata": {},
   "outputs": [
    {
     "data": {
      "text/plain": [
       "{'headline': 'Could Zika Reach New York City?',\n",
       " 'countries': None,\n",
       " 'cities': 'New York City'}"
      ]
     },
     "execution_count": 16,
     "metadata": {},
     "output_type": "execute_result"
    }
   ],
   "source": [
    "find_city_and_country_in_headline(Headline_text[1])"
   ]
  },
  {
   "cell_type": "code",
   "execution_count": 17,
   "metadata": {},
   "outputs": [
    {
     "ename": "SyntaxError",
     "evalue": "invalid syntax (<ipython-input-17-5211aee59688>, line 1)",
     "output_type": "error",
     "traceback": [
      "\u001b[1;36m  File \u001b[1;32m\"<ipython-input-17-5211aee59688>\"\u001b[1;36m, line \u001b[1;32m1\u001b[0m\n\u001b[1;33m    Apply Regular Expression to All Headlines\u001b[0m\n\u001b[1;37m          ^\u001b[0m\n\u001b[1;31mSyntaxError\u001b[0m\u001b[1;31m:\u001b[0m invalid syntax\n"
     ]
    }
   ],
   "source": [
    "Apply Regular Expression to All Headlines"
   ]
  },
  {
   "cell_type": "code",
   "execution_count": 18,
   "metadata": {},
   "outputs": [
    {
     "data": {
      "text/plain": [
       "[{'headline': 'More Zika patients reported in Fort Worth',\n",
       "  'countries': None,\n",
       "  'cities': 'Fort Worth'},\n",
       " {'headline': 'Zika symptoms spotted in Boynton Beach',\n",
       "  'countries': None,\n",
       "  'cities': 'Boynton Beach'},\n",
       " {'headline': 'Outbreak of Zika in Portoviejo',\n",
       "  'countries': None,\n",
       "  'cities': 'Portoviejo'},\n",
       " {'headline': 'Influenza Exposure in Muscat',\n",
       "  'countries': None,\n",
       "  'cities': 'Muscat'},\n",
       " {'headline': 'Rumors about Rabies spreading in Jerusalem have been refuted',\n",
       "  'countries': None,\n",
       "  'cities': 'Jerusalem'},\n",
       " {'headline': 'More Zika patients reported in Indang',\n",
       "  'countries': None,\n",
       "  'cities': 'Indang'},\n",
       " {'headline': 'Suva authorities confirmed the spread of Rotavirus',\n",
       "  'countries': None,\n",
       "  'cities': 'Suva'},\n",
       " {'headline': 'More Zika patients reported in Bella Vista',\n",
       "  'countries': None,\n",
       "  'cities': 'Bella Vista'},\n",
       " {'headline': 'Zika Outbreak in Wichita Falls',\n",
       "  'countries': None,\n",
       "  'cities': 'Wichita Falls'},\n",
       " {'headline': '', 'countries': None, 'cities': None}]"
      ]
     },
     "execution_count": 18,
     "metadata": {},
     "output_type": "execute_result"
    }
   ],
   "source": [
    "headline_cities_and_countries = [\n",
    "    find_city_and_country_in_headline(headline) for headline in Headline_text\n",
    "]\n",
    "headline_cities_and_countries[-10:]"
   ]
  },
  {
   "cell_type": "code",
   "execution_count": 21,
   "metadata": {},
   "outputs": [],
   "source": [
    "with open(\"headline_cities_and_countries.json\", 'w') as outfile:\n",
    "    json.dump(headline_cities_and_countries, outfile)"
   ]
  },
  {
   "cell_type": "code",
   "execution_count": 75,
   "metadata": {},
   "outputs": [],
   "source": [
    "with open('headline_cities_and_countries.txt', \"r\") as fin:\n",
    "    check_data = json.loads(fin.read())"
   ]
  },
  {
   "cell_type": "code",
   "execution_count": 72,
   "metadata": {},
   "outputs": [
    {
     "data": {
      "text/plain": [
       "[{'headline': 'More Zika patients reported in Fort Worth',\n",
       "  'countries': None,\n",
       "  'cities': 'Fort Worth'},\n",
       " {'headline': 'Zika symptoms spotted in Boynton Beach',\n",
       "  'countries': None,\n",
       "  'cities': 'Boynton Beach'},\n",
       " {'headline': 'Outbreak of Zika in Portoviejo',\n",
       "  'countries': None,\n",
       "  'cities': 'Portoviejo'},\n",
       " {'headline': 'Influenza Exposure in Muscat',\n",
       "  'countries': None,\n",
       "  'cities': 'Muscat'},\n",
       " {'headline': 'Rumors about Rabies spreading in Jerusalem have been refuted',\n",
       "  'countries': None,\n",
       "  'cities': 'Jerusalem'},\n",
       " {'headline': 'More Zika patients reported in Indang',\n",
       "  'countries': None,\n",
       "  'cities': 'Indang'},\n",
       " {'headline': 'Suva authorities confirmed the spread of Rotavirus',\n",
       "  'countries': None,\n",
       "  'cities': 'Suva'},\n",
       " {'headline': 'More Zika patients reported in Bella Vista',\n",
       "  'countries': None,\n",
       "  'cities': 'Bella Vista'},\n",
       " {'headline': 'Zika Outbreak in Wichita Falls',\n",
       "  'countries': None,\n",
       "  'cities': 'Wichita Falls'},\n",
       " {'headline': '', 'countries': None, 'cities': None}]"
      ]
     },
     "execution_count": 72,
     "metadata": {},
     "output_type": "execute_result"
    }
   ],
   "source": [
    "check_data[-10:]"
   ]
  },
  {
   "cell_type": "code",
   "execution_count": 23,
   "metadata": {},
   "outputs": [],
   "source": [
    "with open(\"country_accent_mapping.json\", \"w\") as fout:\n",
    "    json.dump(country_accent_mapping, fout)"
   ]
  },
  {
   "cell_type": "code",
   "execution_count": 24,
   "metadata": {},
   "outputs": [],
   "source": [
    "with open(\"city_accent_mapping.json\", \"w\") as fit:\n",
    "    json.dump(city_accent_mapping, fit)"
   ]
  },
  {
   "cell_type": "code",
   "execution_count": 26,
   "metadata": {},
   "outputs": [
    {
     "data": {
      "text/html": [
       "<div>\n",
       "<style scoped>\n",
       "    .dataframe tbody tr th:only-of-type {\n",
       "        vertical-align: middle;\n",
       "    }\n",
       "\n",
       "    .dataframe tbody tr th {\n",
       "        vertical-align: top;\n",
       "    }\n",
       "\n",
       "    .dataframe thead th {\n",
       "        text-align: right;\n",
       "    }\n",
       "</style>\n",
       "<table border=\"1\" class=\"dataframe\">\n",
       "  <thead>\n",
       "    <tr style=\"text-align: right;\">\n",
       "      <th></th>\n",
       "      <th>headline</th>\n",
       "      <th>countries</th>\n",
       "      <th>cities</th>\n",
       "    </tr>\n",
       "  </thead>\n",
       "  <tbody>\n",
       "    <tr>\n",
       "      <th>0</th>\n",
       "      <td>Zika Outbreak Hits Miami</td>\n",
       "      <td>NaN</td>\n",
       "      <td>Miami</td>\n",
       "    </tr>\n",
       "    <tr>\n",
       "      <th>1</th>\n",
       "      <td>Could Zika Reach New York City?</td>\n",
       "      <td>NaN</td>\n",
       "      <td>New York City</td>\n",
       "    </tr>\n",
       "    <tr>\n",
       "      <th>2</th>\n",
       "      <td>First Case of Zika in Miami Beach</td>\n",
       "      <td>NaN</td>\n",
       "      <td>Miami Beach</td>\n",
       "    </tr>\n",
       "    <tr>\n",
       "      <th>3</th>\n",
       "      <td>Mystery Virus Spreads in Recife, Brazil</td>\n",
       "      <td>Brazil</td>\n",
       "      <td>Recife</td>\n",
       "    </tr>\n",
       "    <tr>\n",
       "      <th>4</th>\n",
       "      <td>Dallas man comes down with case of Zika</td>\n",
       "      <td>NaN</td>\n",
       "      <td>Dallas</td>\n",
       "    </tr>\n",
       "    <tr>\n",
       "      <th>5</th>\n",
       "      <td>Trinidad confirms first Zika case</td>\n",
       "      <td>NaN</td>\n",
       "      <td>Trinidad</td>\n",
       "    </tr>\n",
       "    <tr>\n",
       "      <th>6</th>\n",
       "      <td>Zika Concerns are Spreading in Houston</td>\n",
       "      <td>NaN</td>\n",
       "      <td>Houston</td>\n",
       "    </tr>\n",
       "    <tr>\n",
       "      <th>7</th>\n",
       "      <td>Geneve Scientists Battle to Find Cure</td>\n",
       "      <td>NaN</td>\n",
       "      <td>Geneve</td>\n",
       "    </tr>\n",
       "    <tr>\n",
       "      <th>8</th>\n",
       "      <td>The CDC in Atlanta is Growing Worried</td>\n",
       "      <td>NaN</td>\n",
       "      <td>Atlanta</td>\n",
       "    </tr>\n",
       "    <tr>\n",
       "      <th>9</th>\n",
       "      <td>Zika Infested Monkeys in Sao Paulo</td>\n",
       "      <td>NaN</td>\n",
       "      <td>Sao Paulo</td>\n",
       "    </tr>\n",
       "  </tbody>\n",
       "</table>\n",
       "</div>"
      ],
      "text/plain": [
       "                                  headline countries         cities\n",
       "0                 Zika Outbreak Hits Miami       NaN          Miami\n",
       "1          Could Zika Reach New York City?       NaN  New York City\n",
       "2        First Case of Zika in Miami Beach       NaN    Miami Beach\n",
       "3  Mystery Virus Spreads in Recife, Brazil    Brazil         Recife\n",
       "4  Dallas man comes down with case of Zika       NaN         Dallas\n",
       "5        Trinidad confirms first Zika case       NaN       Trinidad\n",
       "6   Zika Concerns are Spreading in Houston       NaN        Houston\n",
       "7    Geneve Scientists Battle to Find Cure       NaN         Geneve\n",
       "8    The CDC in Atlanta is Growing Worried       NaN        Atlanta\n",
       "9       Zika Infested Monkeys in Sao Paulo       NaN      Sao Paulo"
      ]
     },
     "execution_count": 26,
     "metadata": {},
     "output_type": "execute_result"
    }
   ],
   "source": [
    "data = pd.read_json(\"headline_cities_and_countries.json\")\n",
    "data = data.replace({None: np.nan})\n",
    "\n",
    "data.head(10)"
   ]
  },
  {
   "cell_type": "code",
   "execution_count": null,
   "metadata": {},
   "outputs": [],
   "source": []
  }
 ],
 "metadata": {
  "kernelspec": {
   "display_name": "Python 3",
   "language": "python",
   "name": "python3"
  },
  "language_info": {
   "codemirror_mode": {
    "name": "ipython",
    "version": 3
   },
   "file_extension": ".py",
   "mimetype": "text/x-python",
   "name": "python",
   "nbconvert_exporter": "python",
   "pygments_lexer": "ipython3",
   "version": "3.8.0"
  }
 },
 "nbformat": 4,
 "nbformat_minor": 4
}
